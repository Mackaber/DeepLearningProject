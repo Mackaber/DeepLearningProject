{
 "cells": [
  {
   "cell_type": "code",
   "execution_count": 1,
   "metadata": {
    "ExecuteTime": {
     "end_time": "2019-05-07T20:34:53.022123Z",
     "start_time": "2019-05-07T20:34:51.690344Z"
    }
   },
   "outputs": [],
   "source": [
    "from tensorflow.contrib.keras.api.keras.layers import Dropout\n",
    "from tensorflow.contrib.keras.api.keras.models import Sequential\n",
    "from tensorflow.contrib.keras.api.keras.layers import Conv2D\n",
    "from tensorflow.contrib.keras.api.keras.layers import MaxPooling2D\n",
    "from tensorflow.contrib.keras.api.keras.layers import Flatten\n",
    "from tensorflow.contrib.keras.api.keras.layers import Dense\n",
    "from tensorflow.contrib.keras.api.keras.callbacks import Callback\n",
    "from tensorflow.contrib.keras.api.keras.preprocessing.image import ImageDataGenerator\n",
    "from tensorflow.contrib.keras import backend\n",
    "import os"
   ]
  },
  {
   "cell_type": "code",
   "execution_count": 2,
   "metadata": {
    "ExecuteTime": {
     "end_time": "2019-05-07T20:34:53.026910Z",
     "start_time": "2019-05-07T20:34:53.023437Z"
    }
   },
   "outputs": [],
   "source": [
    "class LossHistory(Callback):\n",
    "    def __init__(self):\n",
    "        super().__init__()\n",
    "        self.epoch_id = 0\n",
    "        self.losses = ''\n",
    " \n",
    "    def on_epoch_end(self, epoch, logs={}):\n",
    "        self.losses += \"Epoch {}: accuracy -> {:.4f}, val_accuracy -> {:.4f}\\n\"\\\n",
    "            .format(str(self.epoch_id), logs.get('acc'), logs.get('val_acc'))\n",
    "        self.epoch_id += 1\n",
    " \n",
    "    def on_train_begin(self, logs={}):\n",
    "        self.losses += 'Training begins...\\n'"
   ]
  },
  {
   "cell_type": "code",
   "execution_count": 3,
   "metadata": {
    "ExecuteTime": {
     "end_time": "2019-05-07T20:34:53.184472Z",
     "start_time": "2019-05-07T20:34:53.028638Z"
    }
   },
   "outputs": [
    {
     "name": "stdout",
     "output_type": "stream",
     "text": [
      "WARNING:tensorflow:From /home/mackaber/anaconda3/envs/DeepLearning/lib/python3.6/site-packages/tensorflow/python/ops/resource_variable_ops.py:435: colocate_with (from tensorflow.python.framework.ops) is deprecated and will be removed in a future version.\n",
      "Instructions for updating:\n",
      "Colocations handled automatically by placer.\n",
      "WARNING:tensorflow:From /home/mackaber/anaconda3/envs/DeepLearning/lib/python3.6/site-packages/tensorflow/python/keras/layers/core.py:143: calling dropout (from tensorflow.python.ops.nn_ops) with keep_prob is deprecated and will be removed in a future version.\n",
      "Instructions for updating:\n",
      "Please use `rate` instead of `keep_prob`. Rate should be set to `rate = 1 - keep_prob`.\n",
      "_________________________________________________________________\n",
      "Layer (type)                 Output Shape              Param #   \n",
      "=================================================================\n",
      "conv2d (Conv2D)              (None, 126, 126, 32)      896       \n",
      "_________________________________________________________________\n",
      "max_pooling2d (MaxPooling2D) (None, 63, 63, 32)        0         \n",
      "_________________________________________________________________\n",
      "conv2d_1 (Conv2D)            (None, 61, 61, 32)        9248      \n",
      "_________________________________________________________________\n",
      "max_pooling2d_1 (MaxPooling2 (None, 30, 30, 32)        0         \n",
      "_________________________________________________________________\n",
      "conv2d_2 (Conv2D)            (None, 28, 28, 64)        18496     \n",
      "_________________________________________________________________\n",
      "max_pooling2d_2 (MaxPooling2 (None, 14, 14, 64)        0         \n",
      "_________________________________________________________________\n",
      "flatten (Flatten)            (None, 12544)             0         \n",
      "_________________________________________________________________\n",
      "dense (Dense)                (None, 64)                802880    \n",
      "_________________________________________________________________\n",
      "dropout (Dropout)            (None, 64)                0         \n",
      "_________________________________________________________________\n",
      "dense_1 (Dense)              (None, 1)                 65        \n",
      "=================================================================\n",
      "Total params: 831,585\n",
      "Trainable params: 831,585\n",
      "Non-trainable params: 0\n",
      "_________________________________________________________________\n"
     ]
    }
   ],
   "source": [
    "# Initialising the CNN\n",
    "classifier = Sequential()\n",
    " \n",
    "# Step 1 - Convolution\n",
    "input_size = (128, 128)\n",
    "classifier.add(Conv2D(32, (3, 3), input_shape=(*input_size, 3), activation='relu'))\n",
    " \n",
    "# Step 2 - Pooling\n",
    "classifier.add(MaxPooling2D(pool_size=(2, 2)))  # 2x2 is optimal\n",
    " \n",
    "# Adding a second convolutional layer\n",
    "classifier.add(Conv2D(32, (3, 3), activation='relu'))\n",
    "classifier.add(MaxPooling2D(pool_size=(2, 2)))\n",
    " \n",
    "# Adding a third convolutional layer\n",
    "classifier.add(Conv2D(64, (3, 3), activation='relu'))\n",
    "classifier.add(MaxPooling2D(pool_size=(2, 2)))\n",
    " \n",
    "# Step 3 - Flattening\n",
    "classifier.add(Flatten())\n",
    " \n",
    "# Step 4 - Full connection\n",
    "classifier.add(Dense(units=64, activation='relu'))\n",
    "classifier.add(Dropout(0.5))\n",
    "classifier.add(Dense(units=1, activation='sigmoid'))\n",
    " \n",
    "classifier.summary()\n",
    "    \n",
    "# Compiling the CNN\n",
    "classifier.compile(optimizer='adam', loss='binary_crossentropy', metrics=['accuracy'])\n",
    " "
   ]
  },
  {
   "cell_type": "code",
   "execution_count": 4,
   "metadata": {
    "ExecuteTime": {
     "end_time": "2019-05-07T20:34:53.396716Z",
     "start_time": "2019-05-07T20:34:53.186226Z"
    }
   },
   "outputs": [
    {
     "name": "stdout",
     "output_type": "stream",
     "text": [
      "Found 2002 images belonging to 2 classes.\n",
      "Found 602 images belonging to 2 classes.\n"
     ]
    }
   ],
   "source": [
    "from PIL import ImageFile\n",
    "ImageFile.LOAD_TRUNCATED_IMAGES = True\n",
    "\n",
    "# Part 2 - Fitting the CNN to the images\n",
    "batch_size = 32\n",
    "train_datagen = ImageDataGenerator(rescale=1. / 255,\n",
    "                                   shear_range=0.2,\n",
    "                                   zoom_range=0.2,\n",
    "                                   horizontal_flip=True)\n",
    " \n",
    "test_datagen = ImageDataGenerator(rescale=1. / 255)\n",
    " \n",
    "training_set = train_datagen.flow_from_directory('PS-Battles/train_2',\n",
    "                                                 target_size=input_size,\n",
    "                                                 batch_size=batch_size,\n",
    "                                                 class_mode='binary')\n",
    " \n",
    "test_set = test_datagen.flow_from_directory('PS-Battles/test_2',\n",
    "                                            target_size=input_size,\n",
    "                                            batch_size=batch_size,\n",
    "                                            class_mode='binary')"
   ]
  },
  {
   "cell_type": "code",
   "execution_count": 5,
   "metadata": {
    "ExecuteTime": {
     "end_time": "2019-05-07T20:47:32.657424Z",
     "start_time": "2019-05-07T20:34:53.398401Z"
    }
   },
   "outputs": [
    {
     "name": "stdout",
     "output_type": "stream",
     "text": [
      "WARNING:tensorflow:From /home/mackaber/anaconda3/envs/DeepLearning/lib/python3.6/site-packages/tensorflow/python/ops/math_ops.py:3066: to_int32 (from tensorflow.python.ops.math_ops) is deprecated and will be removed in a future version.\n",
      "Instructions for updating:\n",
      "Use tf.cast instead.\n",
      "Epoch 1/50\n",
      "19/19 [==============================] - 5s 286ms/step - loss: 0.6908 - acc: 0.5532\n",
      "63/63 [==============================] - 16s 261ms/step - loss: 0.7053 - acc: 0.5305 - val_loss: 0.6908 - val_acc: 0.5532\n",
      "Epoch 2/50\n",
      "19/19 [==============================] - 5s 274ms/step - loss: 0.6855 - acc: 0.5432\n",
      "63/63 [==============================] - 15s 231ms/step - loss: 0.6904 - acc: 0.5350 - val_loss: 0.6855 - val_acc: 0.5432\n",
      "Epoch 3/50\n",
      "19/19 [==============================] - 5s 276ms/step - loss: 0.6859 - acc: 0.5482\n",
      "63/63 [==============================] - 15s 234ms/step - loss: 0.6884 - acc: 0.5345 - val_loss: 0.6859 - val_acc: 0.5482\n",
      "Epoch 4/50\n",
      "19/19 [==============================] - 5s 279ms/step - loss: 0.6858 - acc: 0.5465\n",
      "63/63 [==============================] - 15s 236ms/step - loss: 0.6867 - acc: 0.5569 - val_loss: 0.6858 - val_acc: 0.5465\n",
      "Epoch 5/50\n",
      "19/19 [==============================] - 5s 268ms/step - loss: 0.6822 - acc: 0.5498\n",
      "63/63 [==============================] - 14s 229ms/step - loss: 0.6839 - acc: 0.5559 - val_loss: 0.6822 - val_acc: 0.5498\n",
      "Epoch 6/50\n",
      "19/19 [==============================] - 5s 281ms/step - loss: 0.6845 - acc: 0.5365\n",
      "63/63 [==============================] - 15s 238ms/step - loss: 0.6838 - acc: 0.5614 - val_loss: 0.6845 - val_acc: 0.5365\n",
      "Epoch 7/50\n",
      "19/19 [==============================] - 5s 270ms/step - loss: 0.6968 - acc: 0.5731\n",
      "63/63 [==============================] - 14s 229ms/step - loss: 0.6814 - acc: 0.5519 - val_loss: 0.6968 - val_acc: 0.5731\n",
      "Epoch 8/50\n",
      "19/19 [==============================] - 5s 263ms/step - loss: 0.6932 - acc: 0.5515\n",
      "63/63 [==============================] - 15s 233ms/step - loss: 0.6781 - acc: 0.5539 - val_loss: 0.6932 - val_acc: 0.5515\n",
      "Epoch 9/50\n",
      "19/19 [==============================] - 5s 272ms/step - loss: 0.7268 - acc: 0.5382\n",
      "63/63 [==============================] - 15s 238ms/step - loss: 0.6754 - acc: 0.5694 - val_loss: 0.7268 - val_acc: 0.5382\n",
      "Epoch 10/50\n",
      "19/19 [==============================] - 5s 281ms/step - loss: 0.6958 - acc: 0.5565\n",
      "63/63 [==============================] - 15s 240ms/step - loss: 0.6742 - acc: 0.5739 - val_loss: 0.6958 - val_acc: 0.5565\n",
      "Epoch 11/50\n",
      "19/19 [==============================] - 5s 266ms/step - loss: 0.7128 - acc: 0.5415\n",
      "63/63 [==============================] - 15s 231ms/step - loss: 0.6767 - acc: 0.5574 - val_loss: 0.7128 - val_acc: 0.5415\n",
      "Epoch 12/50\n",
      "19/19 [==============================] - 5s 269ms/step - loss: 0.7015 - acc: 0.5598\n",
      "63/63 [==============================] - 15s 238ms/step - loss: 0.6727 - acc: 0.5839 - val_loss: 0.7015 - val_acc: 0.5598\n",
      "Epoch 13/50\n",
      "19/19 [==============================] - 5s 265ms/step - loss: 0.7155 - acc: 0.5415 3s - loss: 0.\n",
      "63/63 [==============================] - 15s 233ms/step - loss: 0.6747 - acc: 0.5729 - val_loss: 0.7155 - val_acc: 0.5415\n",
      "Epoch 14/50\n",
      "19/19 [==============================] - 5s 267ms/step - loss: 0.7237 - acc: 0.5399\n",
      "63/63 [==============================] - 17s 263ms/step - loss: 0.6705 - acc: 0.5824 - val_loss: 0.7237 - val_acc: 0.5399\n",
      "Epoch 15/50\n",
      "19/19 [==============================] - 5s 270ms/step - loss: 0.7085 - acc: 0.5748\n",
      "63/63 [==============================] - 15s 238ms/step - loss: 0.6712 - acc: 0.5714 - val_loss: 0.7085 - val_acc: 0.5748\n",
      "Epoch 16/50\n",
      "19/19 [==============================] - 5s 281ms/step - loss: 0.7299 - acc: 0.5748\n",
      "63/63 [==============================] - 15s 237ms/step - loss: 0.6632 - acc: 0.5844 - val_loss: 0.7299 - val_acc: 0.5748\n",
      "Epoch 17/50\n",
      "19/19 [==============================] - 5s 283ms/step - loss: 0.7599 - acc: 0.5415\n",
      "63/63 [==============================] - 15s 234ms/step - loss: 0.6604 - acc: 0.5959 - val_loss: 0.7599 - val_acc: 0.5415\n",
      "Epoch 18/50\n",
      "19/19 [==============================] - 5s 278ms/step - loss: 0.7108 - acc: 0.5714\n",
      "63/63 [==============================] - 15s 232ms/step - loss: 0.6581 - acc: 0.6009 - val_loss: 0.7108 - val_acc: 0.5714\n",
      "Epoch 19/50\n",
      "19/19 [==============================] - 5s 279ms/step - loss: 0.7494 - acc: 0.5266\n",
      "63/63 [==============================] - 17s 273ms/step - loss: 0.6502 - acc: 0.5989 - val_loss: 0.7494 - val_acc: 0.5266\n",
      "Epoch 20/50\n",
      "19/19 [==============================] - 5s 289ms/step - loss: 0.7253 - acc: 0.5532\n",
      "63/63 [==============================] - 15s 242ms/step - loss: 0.6485 - acc: 0.6109 - val_loss: 0.7253 - val_acc: 0.5532\n",
      "Epoch 21/50\n",
      "19/19 [==============================] - 5s 286ms/step - loss: 0.7781 - acc: 0.5449\n",
      "63/63 [==============================] - 15s 238ms/step - loss: 0.6407 - acc: 0.6104 - val_loss: 0.7781 - val_acc: 0.5449\n",
      "Epoch 22/50\n",
      "19/19 [==============================] - 5s 277ms/step - loss: 0.9080 - acc: 0.5249\n",
      "63/63 [==============================] - 15s 240ms/step - loss: 0.6342 - acc: 0.6224 - val_loss: 0.9080 - val_acc: 0.5249\n",
      "Epoch 23/50\n",
      "19/19 [==============================] - 5s 285ms/step - loss: 0.7238 - acc: 0.5515\n",
      "63/63 [==============================] - 15s 240ms/step - loss: 0.6450 - acc: 0.6114 - val_loss: 0.7238 - val_acc: 0.5515\n",
      "Epoch 24/50\n",
      "19/19 [==============================] - 5s 284ms/step - loss: 0.7669 - acc: 0.5465\n",
      "63/63 [==============================] - 15s 238ms/step - loss: 0.6219 - acc: 0.6399 - val_loss: 0.7669 - val_acc: 0.5465\n",
      "Epoch 25/50\n",
      "19/19 [==============================] - 5s 284ms/step - loss: 0.7266 - acc: 0.5482\n",
      "63/63 [==============================] - 15s 236ms/step - loss: 0.6379 - acc: 0.6259 - val_loss: 0.7266 - val_acc: 0.5482\n",
      "Epoch 26/50\n",
      "19/19 [==============================] - 5s 284ms/step - loss: 0.8215 - acc: 0.5631\n",
      "63/63 [==============================] - 17s 268ms/step - loss: 0.6130 - acc: 0.6573 - val_loss: 0.8215 - val_acc: 0.5631\n",
      "Epoch 27/50\n",
      "19/19 [==============================] - 6s 290ms/step - loss: 0.8022 - acc: 0.5183\n",
      "63/63 [==============================] - 15s 240ms/step - loss: 0.6205 - acc: 0.6489 - val_loss: 0.8022 - val_acc: 0.5183\n",
      "Epoch 28/50\n",
      "19/19 [==============================] - 5s 275ms/step - loss: 0.7955 - acc: 0.5498\n",
      "63/63 [==============================] - 15s 236ms/step - loss: 0.5973 - acc: 0.6703 - val_loss: 0.7955 - val_acc: 0.5498\n",
      "Epoch 29/50\n",
      "19/19 [==============================] - 5s 280ms/step - loss: 0.8164 - acc: 0.5432\n",
      "63/63 [==============================] - 15s 240ms/step - loss: 0.5912 - acc: 0.6583 - val_loss: 0.8164 - val_acc: 0.5432\n",
      "Epoch 30/50\n",
      "19/19 [==============================] - 5s 285ms/step - loss: 0.8991 - acc: 0.5100\n",
      "63/63 [==============================] - 15s 240ms/step - loss: 0.5930 - acc: 0.6693 - val_loss: 0.8991 - val_acc: 0.5100\n",
      "Epoch 31/50\n",
      "19/19 [==============================] - 5s 288ms/step - loss: 0.9059 - acc: 0.5332\n",
      "63/63 [==============================] - 15s 244ms/step - loss: 0.5698 - acc: 0.6843 - val_loss: 0.9059 - val_acc: 0.5332\n",
      "Epoch 32/50\n",
      "19/19 [==============================] - 6s 302ms/step - loss: 0.9578 - acc: 0.5116\n",
      "63/63 [==============================] - 15s 244ms/step - loss: 0.5715 - acc: 0.6843 - val_loss: 0.9578 - val_acc: 0.5116\n",
      "Epoch 33/50\n",
      "19/19 [==============================] - 5s 289ms/step - loss: 0.8485 - acc: 0.5415\n",
      "63/63 [==============================] - 15s 234ms/step - loss: 0.5645 - acc: 0.7058 - val_loss: 0.8485 - val_acc: 0.5415\n",
      "Epoch 34/50\n",
      "19/19 [==============================] - 5s 278ms/step - loss: 1.0066 - acc: 0.5199\n",
      "63/63 [==============================] - 17s 264ms/step - loss: 0.5593 - acc: 0.6898 - val_loss: 1.0066 - val_acc: 0.5199\n",
      "Epoch 35/50\n",
      "19/19 [==============================] - 5s 268ms/step - loss: 0.8728 - acc: 0.5532\n",
      "63/63 [==============================] - 15s 231ms/step - loss: 0.5554 - acc: 0.6938 - val_loss: 0.8728 - val_acc: 0.5532\n",
      "Epoch 36/50\n",
      "19/19 [==============================] - 5s 275ms/step - loss: 0.8697 - acc: 0.5465\n",
      "63/63 [==============================] - 15s 237ms/step - loss: 0.5544 - acc: 0.7098 - val_loss: 0.8697 - val_acc: 0.5465\n",
      "Epoch 37/50\n"
     ]
    },
    {
     "name": "stdout",
     "output_type": "stream",
     "text": [
      "19/19 [==============================] - 5s 268ms/step - loss: 1.0333 - acc: 0.5947\n",
      "63/63 [==============================] - 15s 239ms/step - loss: 0.5309 - acc: 0.7138 - val_loss: 1.0333 - val_acc: 0.5947\n",
      "Epoch 38/50\n",
      "19/19 [==============================] - 5s 283ms/step - loss: 0.8804 - acc: 0.5598\n",
      "63/63 [==============================] - 15s 242ms/step - loss: 0.5267 - acc: 0.7303 - val_loss: 0.8804 - val_acc: 0.5598\n",
      "Epoch 39/50\n",
      "19/19 [==============================] - 5s 267ms/step - loss: 0.9683 - acc: 0.5615\n",
      "63/63 [==============================] - 15s 233ms/step - loss: 0.5277 - acc: 0.7198 - val_loss: 0.9683 - val_acc: 0.5615\n",
      "Epoch 40/50\n",
      "19/19 [==============================] - 5s 286ms/step - loss: 1.0526 - acc: 0.5565\n",
      "63/63 [==============================] - 15s 242ms/step - loss: 0.5085 - acc: 0.7328 - val_loss: 1.0526 - val_acc: 0.5565\n",
      "Epoch 41/50\n",
      "19/19 [==============================] - 5s 279ms/step - loss: 0.9196 - acc: 0.5415\n",
      "63/63 [==============================] - 17s 269ms/step - loss: 0.4892 - acc: 0.7488 - val_loss: 0.9196 - val_acc: 0.5415\n",
      "Epoch 42/50\n",
      "19/19 [==============================] - 5s 266ms/step - loss: 1.0651 - acc: 0.5598\n",
      "63/63 [==============================] - 15s 233ms/step - loss: 0.4927 - acc: 0.7413 - val_loss: 1.0651 - val_acc: 0.5598\n",
      "Epoch 43/50\n",
      "19/19 [==============================] - 5s 272ms/step - loss: 1.1600 - acc: 0.5449\n",
      "63/63 [==============================] - 15s 240ms/step - loss: 0.4665 - acc: 0.7657 - val_loss: 1.1600 - val_acc: 0.5449\n",
      "Epoch 44/50\n",
      "19/19 [==============================] - 5s 275ms/step - loss: 1.1005 - acc: 0.5365\n",
      "63/63 [==============================] - 15s 233ms/step - loss: 0.4693 - acc: 0.7527 - val_loss: 1.1005 - val_acc: 0.5365\n",
      "Epoch 45/50\n",
      "19/19 [==============================] - 5s 282ms/step - loss: 1.1321 - acc: 0.5365\n",
      "63/63 [==============================] - 15s 239ms/step - loss: 0.4525 - acc: 0.7652 - val_loss: 1.1321 - val_acc: 0.5365\n",
      "Epoch 46/50\n",
      "19/19 [==============================] - 5s 268ms/step - loss: 1.1276 - acc: 0.5548\n",
      "63/63 [==============================] - 15s 238ms/step - loss: 0.4372 - acc: 0.7942 - val_loss: 1.1276 - val_acc: 0.5548\n",
      "Epoch 47/50\n",
      "19/19 [==============================] - 5s 275ms/step - loss: 1.1815 - acc: 0.5415\n",
      "63/63 [==============================] - 15s 240ms/step - loss: 0.4355 - acc: 0.7917 - val_loss: 1.1815 - val_acc: 0.5415\n",
      "Epoch 48/50\n",
      "19/19 [==============================] - 5s 282ms/step - loss: 1.1222 - acc: 0.5432\n",
      "63/63 [==============================] - 15s 242ms/step - loss: 0.4290 - acc: 0.7902 - val_loss: 1.1222 - val_acc: 0.5432\n",
      "Epoch 49/50\n",
      "19/19 [==============================] - 5s 278ms/step - loss: 1.1324 - acc: 0.5465\n",
      "63/63 [==============================] - 15s 234ms/step - loss: 0.4089 - acc: 0.8002 - val_loss: 1.1324 - val_acc: 0.5465\n",
      "Epoch 50/50\n",
      "19/19 [==============================] - 5s 276ms/step - loss: 1.3342 - acc: 0.5150\n",
      "63/63 [==============================] - 15s 233ms/step - loss: 0.4123 - acc: 0.8112 - val_loss: 1.3342 - val_acc: 0.5150\n"
     ]
    }
   ],
   "source": [
    "model_details = classifier.fit_generator(training_set,\n",
    "                         steps_per_epoch=1000,\n",
    "                         epochs=50,\n",
    "                         validation_data=test_set,\n",
    "                         validation_steps=100,\n",
    "                         workers=12\n",
    "                         )"
   ]
  },
  {
   "cell_type": "code",
   "execution_count": 6,
   "metadata": {
    "ExecuteTime": {
     "end_time": "2019-05-07T20:47:32.791892Z",
     "start_time": "2019-05-07T20:47:32.659206Z"
    }
   },
   "outputs": [
    {
     "name": "stdout",
     "output_type": "stream",
     "text": [
      "Model saved to PS-Battles/CNN1_sigmoid_sample.h5\n"
     ]
    }
   ],
   "source": [
    "# Save model\n",
    "model_backup_path = 'PS-Battles/CNN1_sigmoid_sample.h5'\n",
    "classifier.save(model_backup_path)\n",
    "print(\"Model saved to\", model_backup_path)"
   ]
  },
  {
   "cell_type": "code",
   "execution_count": 7,
   "metadata": {
    "ExecuteTime": {
     "end_time": "2019-05-07T20:47:32.982733Z",
     "start_time": "2019-05-07T20:47:32.793058Z"
    }
   },
   "outputs": [],
   "source": [
    "import matplotlib \n",
    "from matplotlib import pyplot as plt\n",
    "import numpy as np\n",
    "\n",
    "def plot_model(model_details):\n",
    "\n",
    "    # Create sub-plots\n",
    "    fig, axs = plt.subplots(1,2,figsize=(15,5))\n",
    "    # Summarize history for accuracy\n",
    "    axs[0].plot(range(1,len(model_details.history['acc'])+1),model_details.history['acc'])\n",
    "    axs[0].plot(range(1,len(model_details.history['val_acc'])+1),model_details.history['val_acc'])\n",
    "    axs[0].set_title('Model Accuracy')\n",
    "    axs[0].set_ylabel('Accuracy')\n",
    "    axs[0].set_xlabel('Epoch')\n",
    "    axs[0].set_xticks(np.arange(1,len(model_details.history['acc'])+1),len(model_details.history['acc'])/10)\n",
    "    axs[0].legend(['train', 'val'], loc='best')\n",
    "   \n",
    "\n",
    "    # Summarize history for loss\n",
    "    axs[1].plot(range(1,len(model_details.history['loss'])+1),model_details.history['loss'])\n",
    "    axs[1].plot(range(1,len(model_details.history['val_loss'])+1),model_details.history['val_loss'])\n",
    "    axs[1].set_title('Model Loss')\n",
    "    axs[1].set_ylabel('Loss')\n",
    "    axs[1].set_xlabel('Epoch')\n",
    "    axs[1].set_xticks(np.arange(1,len(model_details.history['loss'])+1),len(model_details.history['loss'])/10)\n",
    "    axs[1].legend(['train', 'val'], loc='best')\n",
    "\n",
    "    # Show the plot\n",
    "    plt.show()"
   ]
  },
  {
   "cell_type": "code",
   "execution_count": 8,
   "metadata": {
    "ExecuteTime": {
     "end_time": "2019-05-07T20:47:33.361184Z",
     "start_time": "2019-05-07T20:47:32.984225Z"
    }
   },
   "outputs": [
    {
     "data": {
      "image/png": "[encoded data removed]",
      "text/plain": [
       "<Figure size 1080x360 with 2 Axes>"
      ]
     },
     "metadata": {
      "needs_background": "light"
     },
     "output_type": "display_data"
    }
   ],
   "source": [
    "plot_model(model_details)"
   ]
  },
  {
   "cell_type": "code",
   "execution_count": 9,
   "metadata": {
    "ExecuteTime": {
     "end_time": "2019-05-07T21:11:55.871248Z",
     "start_time": "2019-05-07T21:11:44.825261Z"
    }
   },
   "outputs": [
    {
     "name": "stdout",
     "output_type": "stream",
     "text": [
      "Confusion Matrix\n",
      "[[301   0]\n",
      " [301   0]]\n",
      "Classification Report\n",
      "              precision    recall  f1-score   support\n",
      "\n",
      "        Real       0.50      1.00      0.67       301\n",
      "          PS       0.00      0.00      0.00       301\n",
      "\n",
      "   micro avg       0.50      0.50      0.50       602\n",
      "   macro avg       0.25      0.50      0.33       602\n",
      "weighted avg       0.25      0.50      0.33       602\n",
      "\n"
     ]
    },
    {
     "name": "stderr",
     "output_type": "stream",
     "text": [
      "/home/mackaber/anaconda3/envs/DeepLearning/lib/python3.6/site-packages/sklearn/metrics/classification.py:1143: UndefinedMetricWarning: Precision and F-score are ill-defined and being set to 0.0 in labels with no predicted samples.\n",
      "  'precision', 'predicted', average, warn_for)\n"
     ]
    }
   ],
   "source": [
    "from sklearn.metrics import classification_report, confusion_matrix\n",
    "\n",
    "#Confution Matrix and Classification Report\n",
    "\n",
    "Y_pred = classifier.predict_generator(test_set, 600 // batch_size+1)\n",
    "y_pred = np.argmax(Y_pred, axis=1)\n",
    "print('Confusion Matrix')\n",
    "print(confusion_matrix(test_set.classes, y_pred))\n",
    "print('Classification Report')\n",
    "target_names = ['Real', 'PS']\n",
    "print(classification_report(test_set.classes, y_pred, target_names=target_names))"
   ]
  }
 ],
 "metadata": {
  "kernelspec": {
   "display_name": "Python 3",
   "language": "python",
   "name": "python3"
  },
  "language_info": {
   "codemirror_mode": {
    "name": "ipython",
    "version": 3
   },
   "file_extension": ".py",
   "mimetype": "text/x-python",
   "name": "python",
   "nbconvert_exporter": "python",
   "pygments_lexer": "ipython3",
   "version": "3.6.8"
  }
 },
 "nbformat": 4,
 "nbformat_minor": 2
}
