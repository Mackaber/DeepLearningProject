{
 "cells": [
  {
   "cell_type": "code",
   "execution_count": 1,
   "metadata": {
    "ExecuteTime": {
     "end_time": "2019-05-07T21:40:56.266993Z",
     "start_time": "2019-05-07T21:40:55.411287Z"
    }
   },
   "outputs": [
    {
     "name": "stderr",
     "output_type": "stream",
     "text": [
      "Using TensorFlow backend.\n"
     ]
    }
   ],
   "source": [
    "import keras\n",
    "from keras.applications.resnet50 import ResNet50\n",
    "from keras.datasets import cifar10\n",
    "from keras.preprocessing.image import ImageDataGenerator\n",
    "from keras.models import Sequential\n",
    "from keras.layers import Dense, Dropout, Activation, Flatten\n",
    "from keras.layers import Conv2D, MaxPooling2D\n",
    "import os\n",
    "import matplotlib.pyplot as plt\n",
    "from six.moves import cPickle as pickle\n",
    "from keras.models import Model"
   ]
  },
  {
   "cell_type": "code",
   "execution_count": 2,
   "metadata": {
    "ExecuteTime": {
     "end_time": "2019-05-07T21:40:57.432262Z",
     "start_time": "2019-05-07T21:40:56.268245Z"
    }
   },
   "outputs": [
    {
     "name": "stdout",
     "output_type": "stream",
     "text": [
      "WARNING:tensorflow:From /home/mackaber/anaconda3/envs/DeepLearning/lib/python3.6/site-packages/tensorflow/python/framework/op_def_library.py:263: colocate_with (from tensorflow.python.framework.ops) is deprecated and will be removed in a future version.\n",
      "Instructions for updating:\n",
      "Colocations handled automatically by placer.\n",
      "_________________________________________________________________\n",
      "Layer (type)                 Output Shape              Param #   \n",
      "=================================================================\n",
      "input_1 (InputLayer)         (None, 128, 128, 3)       0         \n",
      "_________________________________________________________________\n",
      "block1_conv1 (Conv2D)        (None, 128, 128, 64)      1792      \n",
      "_________________________________________________________________\n",
      "block1_conv2 (Conv2D)        (None, 128, 128, 64)      36928     \n",
      "_________________________________________________________________\n",
      "block1_pool (MaxPooling2D)   (None, 64, 64, 64)        0         \n",
      "_________________________________________________________________\n",
      "block2_conv1 (Conv2D)        (None, 64, 64, 128)       73856     \n",
      "_________________________________________________________________\n",
      "block2_conv2 (Conv2D)        (None, 64, 64, 128)       147584    \n",
      "_________________________________________________________________\n",
      "block2_pool (MaxPooling2D)   (None, 32, 32, 128)       0         \n",
      "_________________________________________________________________\n",
      "block3_conv1 (Conv2D)        (None, 32, 32, 256)       295168    \n",
      "_________________________________________________________________\n",
      "block3_conv2 (Conv2D)        (None, 32, 32, 256)       590080    \n",
      "_________________________________________________________________\n",
      "block3_conv3 (Conv2D)        (None, 32, 32, 256)       590080    \n",
      "_________________________________________________________________\n",
      "block3_conv4 (Conv2D)        (None, 32, 32, 256)       590080    \n",
      "_________________________________________________________________\n",
      "block3_pool (MaxPooling2D)   (None, 16, 16, 256)       0         \n",
      "_________________________________________________________________\n",
      "block4_conv1 (Conv2D)        (None, 16, 16, 512)       1180160   \n",
      "_________________________________________________________________\n",
      "block4_conv2 (Conv2D)        (None, 16, 16, 512)       2359808   \n",
      "_________________________________________________________________\n",
      "block4_conv3 (Conv2D)        (None, 16, 16, 512)       2359808   \n",
      "_________________________________________________________________\n",
      "block4_conv4 (Conv2D)        (None, 16, 16, 512)       2359808   \n",
      "_________________________________________________________________\n",
      "block4_pool (MaxPooling2D)   (None, 8, 8, 512)         0         \n",
      "_________________________________________________________________\n",
      "block5_conv1 (Conv2D)        (None, 8, 8, 512)         2359808   \n",
      "_________________________________________________________________\n",
      "block5_conv2 (Conv2D)        (None, 8, 8, 512)         2359808   \n",
      "_________________________________________________________________\n",
      "block5_conv3 (Conv2D)        (None, 8, 8, 512)         2359808   \n",
      "_________________________________________________________________\n",
      "block5_conv4 (Conv2D)        (None, 8, 8, 512)         2359808   \n",
      "_________________________________________________________________\n",
      "block5_pool (MaxPooling2D)   (None, 4, 4, 512)         0         \n",
      "_________________________________________________________________\n",
      "global_average_pooling2d_1 ( (None, 512)               0         \n",
      "_________________________________________________________________\n",
      "fc1000_2 (Dense)             (None, 1000)              513000    \n",
      "_________________________________________________________________\n",
      "fc256 (Dense)                (None, 256)               256256    \n",
      "_________________________________________________________________\n",
      "last (Dense)                 (None, 2)                 514       \n",
      "=================================================================\n",
      "Total params: 20,794,154\n",
      "Trainable params: 769,770\n",
      "Non-trainable params: 20,024,384\n",
      "_________________________________________________________________\n"
     ]
    }
   ],
   "source": [
    "from keras.applications.vgg19 import VGG19\n",
    "resnet = VGG19(include_top=False\n",
    "                  ,input_shape=(128, 128, 3)\n",
    "                  ,weights='imagenet'\n",
    "                  ,pooling='avg')\n",
    "\n",
    "for layer in resnet.layers:\n",
    "    layer.trainable=False\n",
    "\n",
    "fc1000_2 = Dense(1000, activation='relu', name='fc1000_2', kernel_initializer='he_normal')(resnet.output)\n",
    "fc256 = Dense(256, activation='relu', name='fc256')(fc1000_2)\n",
    "output = Dense(2, activation='softmax', name='last')(fc256)\n",
    "model = Model(resnet.input, output, name='whole_Model')\n",
    "\n",
    "\n",
    "# Show final model\n",
    "model.summary()\n",
    "\n",
    "# initiate optimizer\n",
    "opt = keras.optimizers.adam(lr=0.001, decay=1e-6)\n",
    "\n",
    "model.compile(loss='sparse_categorical_crossentropy',\n",
    "              optimizer=opt,\n",
    "              metrics=['accuracy'])"
   ]
  },
  {
   "cell_type": "code",
   "execution_count": 3,
   "metadata": {
    "ExecuteTime": {
     "end_time": "2019-05-07T21:40:57.642423Z",
     "start_time": "2019-05-07T21:40:57.433555Z"
    }
   },
   "outputs": [
    {
     "name": "stdout",
     "output_type": "stream",
     "text": [
      "Found 2002 images belonging to 2 classes.\n",
      "Found 602 images belonging to 2 classes.\n"
     ]
    }
   ],
   "source": [
    "from PIL import ImageFile\n",
    "ImageFile.LOAD_TRUNCATED_IMAGES = True\n",
    "\n",
    "batch_size = 32\n",
    "input_size=(128, 128)\n",
    "\n",
    "train_datagen = ImageDataGenerator(rescale=1. / 255,\n",
    "                                   shear_range=0.2,\n",
    "                                   zoom_range=0.2,\n",
    "                                   horizontal_flip=True)\n",
    " \n",
    "test_datagen = ImageDataGenerator(rescale=1. / 255)\n",
    " \n",
    "training_set = train_datagen.flow_from_directory('PS-Battles/train_2',\n",
    "                                                 target_size=input_size,\n",
    "                                                 batch_size=batch_size,\n",
    "                                                 class_mode='binary')\n",
    " \n",
    "test_set = test_datagen.flow_from_directory('PS-Battles/test_2',\n",
    "                                            target_size=input_size,\n",
    "                                            batch_size=batch_size,\n",
    "                                            class_mode='binary')\n"
   ]
  },
  {
   "cell_type": "code",
   "execution_count": 4,
   "metadata": {
    "ExecuteTime": {
     "end_time": "2019-05-07T22:50:05.619707Z",
     "start_time": "2019-05-07T21:40:57.644479Z"
    }
   },
   "outputs": [
    {
     "name": "stdout",
     "output_type": "stream",
     "text": [
      "WARNING:tensorflow:From /home/mackaber/anaconda3/envs/DeepLearning/lib/python3.6/site-packages/tensorflow/python/ops/math_ops.py:3066: to_int32 (from tensorflow.python.ops.math_ops) is deprecated and will be removed in a future version.\n",
      "Instructions for updating:\n",
      "Use tf.cast instead.\n",
      "Epoch 1/10\n",
      "2000/2000 [==============================] - 421s 211ms/step - loss: 0.5381 - acc: 0.7079 - val_loss: 1.1067 - val_acc: 0.5755\n",
      "Epoch 2/10\n",
      "2000/2000 [==============================] - 414s 207ms/step - loss: 0.2449 - acc: 0.8925 - val_loss: 1.7178 - val_acc: 0.5436\n",
      "Epoch 3/10\n",
      "2000/2000 [==============================] - 412s 206ms/step - loss: 0.1372 - acc: 0.9455 - val_loss: 2.1189 - val_acc: 0.5583\n",
      "Epoch 4/10\n",
      "2000/2000 [==============================] - 412s 206ms/step - loss: 0.1000 - acc: 0.9607 - val_loss: 2.2260 - val_acc: 0.5407\n",
      "Epoch 5/10\n",
      "2000/2000 [==============================] - 412s 206ms/step - loss: 0.0771 - acc: 0.9698 - val_loss: 2.4164 - val_acc: 0.5637\n",
      "Epoch 6/10\n",
      "2000/2000 [==============================] - 416s 208ms/step - loss: 0.0626 - acc: 0.9756 - val_loss: 2.4164 - val_acc: 0.5474\n",
      "Epoch 7/10\n",
      "2000/2000 [==============================] - 414s 207ms/step - loss: 0.0547 - acc: 0.9797 - val_loss: 2.7348 - val_acc: 0.5415\n",
      "Epoch 8/10\n",
      "2000/2000 [==============================] - 416s 208ms/step - loss: 0.0478 - acc: 0.9812 - val_loss: 2.5094 - val_acc: 0.5283\n",
      "Epoch 9/10\n",
      "2000/2000 [==============================] - 416s 208ms/step - loss: 0.0450 - acc: 0.9827 - val_loss: 2.6507 - val_acc: 0.5396\n",
      "Epoch 10/10\n",
      "2000/2000 [==============================] - 414s 207ms/step - loss: 0.0403 - acc: 0.9846 - val_loss: 2.6369 - val_acc: 0.5498\n"
     ]
    }
   ],
   "source": [
    "history = model.fit_generator(training_set,\n",
    "                         steps_per_epoch=2000,\n",
    "                         epochs=10,\n",
    "                         validation_data=test_set,\n",
    "                         validation_steps=500,\n",
    "                         workers=8\n",
    "                         )"
   ]
  },
  {
   "cell_type": "code",
   "execution_count": 5,
   "metadata": {
    "ExecuteTime": {
     "end_time": "2019-05-07T22:50:06.352917Z",
     "start_time": "2019-05-07T22:50:05.621416Z"
    }
   },
   "outputs": [],
   "source": [
    "model_backup_path = 'PS-Battles/CGG_FE.h5'\n",
    "model.save(model_backup_path)\n",
    "\n",
    "\n",
    "def plot_model(model_details):\n",
    "\n",
    "    # Create sub-plots\n",
    "    fig, axs = plt.subplots(1,2,figsize=(15,5))\n",
    "    # Summarize history for accuracy\n",
    "    axs[0].plot(range(1,len(model_details.history['acc'])+1),model_details.history['acc'])\n",
    "    axs[0].plot(range(1,len(model_details.history['val_acc'])+1),model_details.history['val_acc'])\n",
    "    axs[0].set_title('Model Accuracy')\n",
    "    axs[0].set_ylabel('Accuracy')\n",
    "    axs[0].set_xlabel('Epoch')\n",
    "    axs[0].set_xticks(np.arange(1,len(model_details.history['acc'])+1),len(model_details.history['acc'])/10)\n",
    "    axs[0].legend(['train', 'val'], loc='best')\n",
    "   \n",
    "\n",
    "    # Summarize history for loss\n",
    "    axs[1].plot(range(1,len(model_details.history['loss'])+1),model_details.history['loss'])\n",
    "    axs[1].plot(range(1,len(model_details.history['val_loss'])+1),model_details.history['val_loss'])\n",
    "    axs[1].set_title('Model Loss')\n",
    "    axs[1].set_ylabel('Loss')\n",
    "    axs[1].set_xlabel('Epoch')\n",
    "    axs[1].set_xticks(np.arange(1,len(model_details.history['loss'])+1),len(model_details.history['loss'])/10)\n",
    "    axs[1].legend(['train', 'val'], loc='best')\n",
    "\n",
    "    # Show the plot\n",
    "    plt.show()"
   ]
  },
  {
   "cell_type": "code",
   "execution_count": 6,
   "metadata": {
    "ExecuteTime": {
     "end_time": "2019-05-07T22:50:06.672610Z",
     "start_time": "2019-05-07T22:50:06.354665Z"
    }
   },
   "outputs": [
    {
     "data": {
      "image/png": "[encoded data removed]",
      "text/plain": [
       "<Figure size 1080x360 with 2 Axes>"
      ]
     },
     "metadata": {
      "needs_background": "light"
     },
     "output_type": "display_data"
    }
   ],
   "source": [
    "import numpy as np\n",
    "\n",
    "plot_model(history)"
   ]
  },
  {
   "cell_type": "code",
   "execution_count": 7,
   "metadata": {
    "ExecuteTime": {
     "end_time": "2019-05-07T22:50:18.172532Z",
     "start_time": "2019-05-07T22:50:06.673785Z"
    }
   },
   "outputs": [
    {
     "name": "stdout",
     "output_type": "stream",
     "text": [
      "Confusion Matrix\n",
      "[[159 142]\n",
      " [147 154]]\n",
      "Classification Report\n",
      "              precision    recall  f1-score   support\n",
      "\n",
      "        Real       0.52      0.53      0.52       301\n",
      "          PS       0.52      0.51      0.52       301\n",
      "\n",
      "   micro avg       0.52      0.52      0.52       602\n",
      "   macro avg       0.52      0.52      0.52       602\n",
      "weighted avg       0.52      0.52      0.52       602\n",
      "\n"
     ]
    }
   ],
   "source": [
    "from sklearn.metrics import classification_report, confusion_matrix\n",
    "\n",
    "#Confution Matrix and Classification Report\n",
    "\n",
    "Y_pred = model.predict_generator(test_set, 600 // batch_size+1)\n",
    "y_pred = np.argmax(Y_pred, axis=1)\n",
    "print('Confusion Matrix')\n",
    "print(confusion_matrix(test_set.classes, y_pred))\n",
    "print('Classification Report')\n",
    "target_names = ['Real', 'PS']\n",
    "print(classification_report(test_set.classes, y_pred, target_names=target_names))\n"
   ]
  }
 ],
 "metadata": {
  "kernelspec": {
   "display_name": "Python 3",
   "language": "python",
   "name": "python3"
  },
  "language_info": {
   "codemirror_mode": {
    "name": "ipython",
    "version": 3
   },
   "file_extension": ".py",
   "mimetype": "text/x-python",
   "name": "python",
   "nbconvert_exporter": "python",
   "pygments_lexer": "ipython3",
   "version": "3.6.8"
  }
 },
 "nbformat": 4,
 "nbformat_minor": 2
}
