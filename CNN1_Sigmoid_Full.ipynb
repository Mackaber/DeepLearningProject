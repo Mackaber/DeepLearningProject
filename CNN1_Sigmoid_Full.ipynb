{
 "cells": [
  {
   "cell_type": "code",
   "execution_count": 1,
   "metadata": {
    "ExecuteTime": {
     "end_time": "2019-05-08T02:07:00.611369Z",
     "start_time": "2019-05-08T02:06:59.363236Z"
    }
   },
   "outputs": [],
   "source": [
    "from tensorflow.contrib.keras.api.keras.layers import Dropout\n",
    "from tensorflow.contrib.keras.api.keras.models import Sequential\n",
    "from tensorflow.contrib.keras.api.keras.layers import Conv2D\n",
    "from tensorflow.contrib.keras.api.keras.layers import MaxPooling2D\n",
    "from tensorflow.contrib.keras.api.keras.layers import Flatten\n",
    "from tensorflow.contrib.keras.api.keras.layers import Dense\n",
    "from tensorflow.contrib.keras.api.keras.callbacks import Callback\n",
    "from tensorflow.contrib.keras.api.keras.preprocessing.image import ImageDataGenerator\n",
    "from tensorflow.contrib.keras import backend\n",
    "import os"
   ]
  },
  {
   "cell_type": "code",
   "execution_count": 2,
   "metadata": {
    "ExecuteTime": {
     "end_time": "2019-05-08T02:07:00.616071Z",
     "start_time": "2019-05-08T02:07:00.612709Z"
    }
   },
   "outputs": [],
   "source": [
    "class LossHistory(Callback):\n",
    "    def __init__(self):\n",
    "        super().__init__()\n",
    "        self.epoch_id = 0\n",
    "        self.losses = ''\n",
    " \n",
    "    def on_epoch_end(self, epoch, logs={}):\n",
    "        self.losses += \"Epoch {}: accuracy -> {:.4f}, val_accuracy -> {:.4f}\\n\"\\\n",
    "            .format(str(self.epoch_id), logs.get('acc'), logs.get('val_acc'))\n",
    "        self.epoch_id += 1\n",
    " \n",
    "    def on_train_begin(self, logs={}):\n",
    "        self.losses += 'Training begins...\\n'"
   ]
  },
  {
   "cell_type": "code",
   "execution_count": 3,
   "metadata": {
    "ExecuteTime": {
     "end_time": "2019-05-08T02:07:00.774823Z",
     "start_time": "2019-05-08T02:07:00.617207Z"
    }
   },
   "outputs": [
    {
     "name": "stdout",
     "output_type": "stream",
     "text": [
      "WARNING:tensorflow:From /home/mackaber/anaconda3/envs/DeepLearning/lib/python3.6/site-packages/tensorflow/python/ops/resource_variable_ops.py:435: colocate_with (from tensorflow.python.framework.ops) is deprecated and will be removed in a future version.\n",
      "Instructions for updating:\n",
      "Colocations handled automatically by placer.\n",
      "WARNING:tensorflow:From /home/mackaber/anaconda3/envs/DeepLearning/lib/python3.6/site-packages/tensorflow/python/keras/layers/core.py:143: calling dropout (from tensorflow.python.ops.nn_ops) with keep_prob is deprecated and will be removed in a future version.\n",
      "Instructions for updating:\n",
      "Please use `rate` instead of `keep_prob`. Rate should be set to `rate = 1 - keep_prob`.\n",
      "_________________________________________________________________\n",
      "Layer (type)                 Output Shape              Param #   \n",
      "=================================================================\n",
      "conv2d (Conv2D)              (None, 126, 126, 32)      896       \n",
      "_________________________________________________________________\n",
      "max_pooling2d (MaxPooling2D) (None, 63, 63, 32)        0         \n",
      "_________________________________________________________________\n",
      "conv2d_1 (Conv2D)            (None, 61, 61, 32)        9248      \n",
      "_________________________________________________________________\n",
      "max_pooling2d_1 (MaxPooling2 (None, 30, 30, 32)        0         \n",
      "_________________________________________________________________\n",
      "conv2d_2 (Conv2D)            (None, 28, 28, 64)        18496     \n",
      "_________________________________________________________________\n",
      "max_pooling2d_2 (MaxPooling2 (None, 14, 14, 64)        0         \n",
      "_________________________________________________________________\n",
      "flatten (Flatten)            (None, 12544)             0         \n",
      "_________________________________________________________________\n",
      "dense (Dense)                (None, 64)                802880    \n",
      "_________________________________________________________________\n",
      "dropout (Dropout)            (None, 64)                0         \n",
      "_________________________________________________________________\n",
      "dense_1 (Dense)              (None, 1)                 65        \n",
      "=================================================================\n",
      "Total params: 831,585\n",
      "Trainable params: 831,585\n",
      "Non-trainable params: 0\n",
      "_________________________________________________________________\n"
     ]
    }
   ],
   "source": [
    "# Initialising the CNN\n",
    "classifier = Sequential()\n",
    " \n",
    "# Step 1 - Convolution\n",
    "input_size = (128, 128)\n",
    "classifier.add(Conv2D(32, (3, 3), input_shape=(*input_size, 3), activation='relu'))\n",
    " \n",
    "# Step 2 - Pooling\n",
    "classifier.add(MaxPooling2D(pool_size=(2, 2)))  # 2x2 is optimal\n",
    " \n",
    "# Adding a second convolutional layer\n",
    "classifier.add(Conv2D(32, (3, 3), activation='relu'))\n",
    "classifier.add(MaxPooling2D(pool_size=(2, 2)))\n",
    " \n",
    "# Adding a third convolutional layer\n",
    "classifier.add(Conv2D(64, (3, 3), activation='relu'))\n",
    "classifier.add(MaxPooling2D(pool_size=(2, 2)))\n",
    " \n",
    "# Step 3 - Flattening\n",
    "classifier.add(Flatten())\n",
    " \n",
    "# Step 4 - Full connection\n",
    "classifier.add(Dense(units=64, activation='relu'))\n",
    "classifier.add(Dropout(0.5))\n",
    "classifier.add(Dense(units=1, activation='sigmoid'))\n",
    " \n",
    "classifier.summary()\n",
    "    \n",
    "# Compiling the CNN\n",
    "classifier.compile(optimizer='adam', loss='binary_crossentropy', metrics=['accuracy'])\n",
    " "
   ]
  },
  {
   "cell_type": "code",
   "execution_count": null,
   "metadata": {
    "ExecuteTime": {
     "start_time": "2019-05-08T02:06:59.083Z"
    }
   },
   "outputs": [
    {
     "name": "stdout",
     "output_type": "stream",
     "text": [
      "Found 56596 images belonging to 2 classes.\n",
      "Found 24229 images belonging to 2 classes.\n"
     ]
    }
   ],
   "source": [
    "from PIL import ImageFile\n",
    "ImageFile.LOAD_TRUNCATED_IMAGES = True\n",
    "\n",
    "# Part 2 - Fitting the CNN to the images\n",
    "batch_size = 32\n",
    "train_datagen = ImageDataGenerator(rescale=1. / 255,\n",
    "                                   shear_range=0.2,\n",
    "                                   zoom_range=0.2,\n",
    "                                   horizontal_flip=True)\n",
    " \n",
    "test_datagen = ImageDataGenerator(rescale=1. / 255)\n",
    " \n",
    "training_set = train_datagen.flow_from_directory('PS-Battles/train',\n",
    "                                                 target_size=input_size,\n",
    "                                                 batch_size=batch_size,\n",
    "                                                 class_mode='binary')\n",
    " \n",
    "test_set = test_datagen.flow_from_directory('PS-Battles/test',\n",
    "                                            target_size=input_size,\n",
    "                                            batch_size=batch_size,\n",
    "                                            class_mode='binary')"
   ]
  },
  {
   "cell_type": "code",
   "execution_count": null,
   "metadata": {
    "ExecuteTime": {
     "start_time": "2019-05-08T02:06:59.086Z"
    }
   },
   "outputs": [
    {
     "name": "stdout",
     "output_type": "stream",
     "text": [
      "WARNING:tensorflow:From /home/mackaber/anaconda3/envs/DeepLearning/lib/python3.6/site-packages/tensorflow/python/ops/math_ops.py:3066: to_int32 (from tensorflow.python.ops.math_ops) is deprecated and will be removed in a future version.\n",
      "Instructions for updating:\n",
      "Use tf.cast instead.\n",
      "Epoch 1/100\n",
      "758/758 [==============================] - 115s 151ms/step - loss: 0.3844 - acc: 0.8657\n",
      "1769/1769 [==============================] - 464s 262ms/step - loss: 0.4023 - acc: 0.8659 - val_loss: 0.3844 - val_acc: 0.8657\n",
      "Epoch 2/100\n",
      "758/758 [==============================] - 115s 152ms/step - loss: 0.4184 - acc: 0.8660\n",
      "1769/1769 [==============================] - 463s 262ms/step - loss: 0.3933 - acc: 0.8660 - val_loss: 0.4184 - val_acc: 0.8660\n",
      "Epoch 3/100\n",
      "758/758 [==============================] - 114s 151ms/step - loss: 0.3862 - acc: 0.8660\n",
      "1769/1769 [==============================] - 463s 262ms/step - loss: 0.3878 - acc: 0.8660 - val_loss: 0.3862 - val_acc: 0.8660\n",
      "Epoch 4/100\n",
      "758/758 [==============================] - 115s 152ms/step - loss: 0.4035 - acc: 0.8660\n",
      "1769/1769 [==============================] - 464s 262ms/step - loss: 0.3844 - acc: 0.8660 - val_loss: 0.4035 - val_acc: 0.8660\n",
      "Epoch 5/100\n",
      "758/758 [==============================] - 115s 151ms/step - loss: 0.3822 - acc: 0.8660\n",
      "1769/1769 [==============================] - 463s 262ms/step - loss: 0.3828 - acc: 0.8660 - val_loss: 0.3822 - val_acc: 0.8660\n",
      "Epoch 6/100\n",
      "758/758 [==============================] - 114s 151ms/step - loss: 0.3814 - acc: 0.8660\n",
      "1769/1769 [==============================] - 463s 262ms/step - loss: 0.3831 - acc: 0.8660 - val_loss: 0.3814 - val_acc: 0.8660\n",
      "Epoch 7/100\n",
      "758/758 [==============================] - 114s 151ms/step - loss: 0.3882 - acc: 0.8660\n",
      "1769/1769 [==============================] - 463s 262ms/step - loss: 0.3810 - acc: 0.8660 - val_loss: 0.3882 - val_acc: 0.8660\n",
      "Epoch 8/100\n",
      "758/758 [==============================] - 115s 151ms/step - loss: 0.4136 - acc: 0.8660\n",
      "1769/1769 [==============================] - 463s 262ms/step - loss: 0.3795 - acc: 0.8660 - val_loss: 0.4136 - val_acc: 0.8660\n",
      "Epoch 9/100\n",
      "758/758 [==============================] - 115s 151ms/step - loss: 0.3863 - acc: 0.8660\n",
      "1769/1769 [==============================] - 463s 261ms/step - loss: 0.3796 - acc: 0.8660 - val_loss: 0.3863 - val_acc: 0.8660\n",
      "Epoch 10/100\n",
      "758/758 [==============================] - 115s 151ms/step - loss: 0.3874 - acc: 0.8660\n",
      "1769/1769 [==============================] - 462s 261ms/step - loss: 0.3781 - acc: 0.8660 - val_loss: 0.3874 - val_acc: 0.8660\n",
      "Epoch 11/100\n",
      "758/758 [==============================] - 115s 152ms/step - loss: 0.3935 - acc: 0.8660\n",
      "1769/1769 [==============================] - 463s 262ms/step - loss: 0.3791 - acc: 0.8660 - val_loss: 0.3935 - val_acc: 0.8660\n",
      "Epoch 12/100\n",
      "758/758 [==============================] - 114s 151ms/step - loss: 0.3887 - acc: 0.8660\n",
      "1769/1769 [==============================] - 463s 261ms/step - loss: 0.3790 - acc: 0.8660 - val_loss: 0.3887 - val_acc: 0.8660\n",
      "Epoch 13/100\n",
      "758/758 [==============================] - 115s 151ms/step - loss: 0.4353 - acc: 0.8660\n",
      "1769/1769 [==============================] - 463s 262ms/step - loss: 0.3779 - acc: 0.8660 - val_loss: 0.4353 - val_acc: 0.8660\n",
      "Epoch 14/100\n",
      "758/758 [==============================] - 115s 151ms/step - loss: 0.3903 - acc: 0.8660\n",
      "1769/1769 [==============================] - 464s 263ms/step - loss: 0.3781 - acc: 0.8660 - val_loss: 0.3903 - val_acc: 0.8660\n",
      "Epoch 15/100\n",
      "758/758 [==============================] - 114s 151ms/step - loss: 0.3983 - acc: 0.8660\n",
      "1769/1769 [==============================] - 465s 263ms/step - loss: 0.3795 - acc: 0.8660 - val_loss: 0.3983 - val_acc: 0.8660\n",
      "Epoch 16/100\n",
      "758/758 [==============================] - 114s 151ms/step - loss: 0.3863 - acc: 0.8660\n",
      "1769/1769 [==============================] - 464s 262ms/step - loss: 0.3770 - acc: 0.8660 - val_loss: 0.3863 - val_acc: 0.8660\n",
      "Epoch 17/100\n",
      "758/758 [==============================] - 115s 151ms/step - loss: 0.3926 - acc: 0.8660\n",
      "1769/1769 [==============================] - 465s 263ms/step - loss: 0.3765 - acc: 0.8661 - val_loss: 0.3926 - val_acc: 0.8660\n",
      "Epoch 18/100\n",
      "758/758 [==============================] - 114s 151ms/step - loss: 0.4046 - acc: 0.8660\n",
      "1769/1769 [==============================] - 464s 262ms/step - loss: 0.3769 - acc: 0.8661 - val_loss: 0.4046 - val_acc: 0.8660\n",
      "Epoch 19/100\n",
      "758/758 [==============================] - 114s 151ms/step - loss: 0.3934 - acc: 0.8660\n",
      "1769/1769 [==============================] - 463s 262ms/step - loss: 0.3769 - acc: 0.8660 - val_loss: 0.3934 - val_acc: 0.8660\n",
      "Epoch 20/100\n",
      "758/758 [==============================] - 115s 151ms/step - loss: 0.3944 - acc: 0.8660\n",
      "1769/1769 [==============================] - 464s 262ms/step - loss: 0.3770 - acc: 0.8661 - val_loss: 0.3944 - val_acc: 0.8660\n",
      "Epoch 21/100\n",
      "758/758 [==============================] - 115s 151ms/step - loss: 0.3936 - acc: 0.8660\n",
      "1769/1769 [==============================] - 464s 262ms/step - loss: 0.3771 - acc: 0.8660 - val_loss: 0.3936 - val_acc: 0.8660\n",
      "Epoch 22/100\n",
      "758/758 [==============================] - 115s 151ms/step - loss: 0.3978 - acc: 0.8660\n",
      "1769/1769 [==============================] - 464s 262ms/step - loss: 0.3760 - acc: 0.8661 - val_loss: 0.3978 - val_acc: 0.8660\n",
      "Epoch 23/100\n",
      "758/758 [==============================] - 115s 152ms/step - loss: 0.3927 - acc: 0.8660\n",
      "1769/1769 [==============================] - 464s 262ms/step - loss: 0.3754 - acc: 0.8659 - val_loss: 0.3927 - val_acc: 0.8660\n",
      "Epoch 24/100\n",
      "758/758 [==============================] - 115s 151ms/step - loss: 0.4394 - acc: 0.8660\n",
      "1769/1769 [==============================] - 464s 262ms/step - loss: 0.3767 - acc: 0.8660 - val_loss: 0.4394 - val_acc: 0.8660\n",
      "Epoch 25/100\n",
      "758/758 [==============================] - 115s 152ms/step - loss: 0.3887 - acc: 0.8660\n",
      "1769/1769 [==============================] - 464s 262ms/step - loss: 0.3758 - acc: 0.8660 - val_loss: 0.3887 - val_acc: 0.8660\n",
      "Epoch 26/100\n",
      "1262/1769 [====================>.........] - ETA: 1:39 - loss: 0.3761 - acc: 0.8651"
     ]
    }
   ],
   "source": [
    "model_details = classifier.fit_generator(training_set,\n",
    "                         steps_per_epoch=1000,\n",
    "                         epochs=100,\n",
    "                         validation_data=test_set,\n",
    "                         validation_steps=100,\n",
    "                         workers=8\n",
    "                         )"
   ]
  },
  {
   "cell_type": "code",
   "execution_count": null,
   "metadata": {
    "ExecuteTime": {
     "start_time": "2019-05-08T02:06:59.088Z"
    }
   },
   "outputs": [],
   "source": [
    "# Save model\n",
    "model_backup_path = 'PS-Battles/CNN1_sigmoid_full.h5'\n",
    "classifier.save(model_backup_path)\n",
    "print(\"Model saved to\", model_backup_path)"
   ]
  },
  {
   "cell_type": "code",
   "execution_count": null,
   "metadata": {
    "ExecuteTime": {
     "start_time": "2019-05-08T02:06:59.090Z"
    }
   },
   "outputs": [],
   "source": [
    "import matplotlib \n",
    "from matplotlib import pyplot as plt\n",
    "import numpy as np\n",
    "\n",
    "def plot_model(model_details):\n",
    "\n",
    "    # Create sub-plots\n",
    "    fig, axs = plt.subplots(1,2,figsize=(15,5))\n",
    "    # Summarize history for accuracy\n",
    "    axs[0].plot(range(1,len(model_details.history['acc'])+1),model_details.history['acc'])\n",
    "    axs[0].plot(range(1,len(model_details.history['val_acc'])+1),model_details.history['val_acc'])\n",
    "    axs[0].set_title('Model Accuracy')\n",
    "    axs[0].set_ylabel('Accuracy')\n",
    "    axs[0].set_xlabel('Epoch')\n",
    "    axs[0].set_xticks(np.arange(1,len(model_details.history['acc'])+1),len(model_details.history['acc'])/10)\n",
    "    axs[0].legend(['train', 'val'], loc='best')\n",
    "   \n",
    "\n",
    "    # Summarize history for loss\n",
    "    axs[1].plot(range(1,len(model_details.history['loss'])+1),model_details.history['loss'])\n",
    "    axs[1].plot(range(1,len(model_details.history['val_loss'])+1),model_details.history['val_loss'])\n",
    "    axs[1].set_title('Model Loss')\n",
    "    axs[1].set_ylabel('Loss')\n",
    "    axs[1].set_xlabel('Epoch')\n",
    "    axs[1].set_xticks(np.arange(1,len(model_details.history['loss'])+1),len(model_details.history['loss'])/10)\n",
    "    axs[1].legend(['train', 'val'], loc='best')\n",
    "\n",
    "    # Show the plot\n",
    "    plt.show()"
   ]
  },
  {
   "cell_type": "code",
   "execution_count": null,
   "metadata": {
    "ExecuteTime": {
     "start_time": "2019-05-08T02:06:59.092Z"
    }
   },
   "outputs": [],
   "source": [
    "plot_model(model_details)"
   ]
  }
 ],
 "metadata": {
  "kernelspec": {
   "display_name": "Python 3",
   "language": "python",
   "name": "python3"
  },
  "language_info": {
   "codemirror_mode": {
    "name": "ipython",
    "version": 3
   },
   "file_extension": ".py",
   "mimetype": "text/x-python",
   "name": "python",
   "nbconvert_exporter": "python",
   "pygments_lexer": "ipython3",
   "version": "3.6.8"
  }
 },
 "nbformat": 4,
 "nbformat_minor": 2
}
